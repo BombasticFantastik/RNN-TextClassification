{
 "cells": [
  {
   "cell_type": "code",
   "execution_count": 55,
   "id": "fc7f8eb4-169c-4760-8bfe-6cc7242a2e76",
   "metadata": {},
   "outputs": [],
   "source": [
    "import datasets\n",
    "from collections import Counter\n",
    "import string\n",
    "from gensim.utils import tokenize\n",
    "from torch.utils.data import Dataset,DataLoader\n",
    "from torch.nn import Module \n",
    "from torch import nn \n",
    "import torch"
   ]
  },
  {
   "cell_type": "code",
   "execution_count": 2,
   "id": "0d918105-c8a1-4ec9-9ef0-adc67a90a77d",
   "metadata": {},
   "outputs": [],
   "source": [
    "newsdata=datasets.load_dataset('ag_news')"
   ]
  },
  {
   "cell_type": "code",
   "execution_count": 16,
   "id": "3f864510-167a-464d-a01a-42c5ca83f6a6",
   "metadata": {},
   "outputs": [
    {
     "name": "stdout",
     "output_type": "stream",
     "text": [
      "Размер словаря 11505\n"
     ]
    }
   ],
   "source": [
    "#Создаём словарь количества вхождений слов\n",
    "words=['<unk>','<bos>','<eos>','<pad>']\n",
    "#str.maketrans('','',string.punctuation)-возврящяет словарь для замены\n",
    "#.translate ждёт словарь слов для замены\n",
    "for sent in newsdata['train']['text']:\n",
    "    proced_sent=sent.lower().translate(\n",
    "        str.maketrans('','',string.punctuation)\n",
    "    )\n",
    "    for word in tokenize(proced_sent):\n",
    "        words.append(word)\n",
    "        \n",
    "\n",
    "vocab = set(['<unk>','<bos>','<eos>','<pad>'])#Токеный неизвестногого слова, начала,конца последовательности и токен пустного пропуска для батчей\n",
    "\n",
    "\n",
    "treshold=25 #Порог для включения в словарь word2ind\n",
    "words=Counter(words)\n",
    "\n",
    "for word,cnt in words.items():\n",
    "    if cnt>treshold:\n",
    "        vocab.add(word)\n",
    "print(f'Размер словаря {len(vocab)}')\n",
    "        \n",
    "   "
   ]
  },
  {
   "cell_type": "code",
   "execution_count": 17,
   "id": "36c1112f-4c8c-4bfb-ac70-749e80a285c9",
   "metadata": {},
   "outputs": [],
   "source": [
    "word2ind={i:char for char,i in enumerate(vocab)}\n",
    "ind2word={char:i for char,i in enumerate(vocab)}"
   ]
  },
  {
   "cell_type": "code",
   "execution_count": 45,
   "id": "1bdffee1-869f-49ee-a970-ad679117c5b7",
   "metadata": {},
   "outputs": [],
   "source": [
    "class WordDataset(Dataset):\n",
    "    def __init__(self,data):  \n",
    "        super(WordDataset,self).__init__()\n",
    "        self.data=data\n",
    "        self.unk=word2ind['<unk>']\n",
    "        self.bos=word2ind['<bos>']\n",
    "        self.eos=word2ind['<eos>']\n",
    "        self.pad=word2ind['<pad>']        \n",
    "    def __getitem__(self,idx:int):\n",
    "        #получаем оригинальные данные\n",
    "        sent=self.data['text'][idx]\n",
    "        label=self.data['label'][idx]\n",
    "        proc_sent=sent.lower().translate(\n",
    "            str.maketrans('','',string.punctuation)\n",
    "\n",
    "        )\n",
    "        #tokenized_sent=tokenize(proc_sent)\n",
    "        tokenized_sent=[self.bos]\n",
    "        tokenized_sent+=[\n",
    "            word2ind.get(word,self.unk) for word in tokenize(proc_sent)\n",
    "        ]\n",
    "        tokenized_sent+=[self.eos]\n",
    "\n",
    "        sample={\n",
    "            'text':tokenized_sent,\n",
    "            'label':label\n",
    "        }\n",
    "        return sample\n",
    "    def __len__(self):\n",
    "        return len(self.data)"
   ]
  },
  {
   "cell_type": "code",
   "execution_count": 50,
   "id": "dfaafc6e-f3fc-4c97-81ef-f929f956a196",
   "metadata": {},
   "outputs": [],
   "source": [
    "def make_batch(data,max_len=256,pad_id=word2ind['<pad>']):\n",
    "    lenghts=[len(sent['text']) for sent in data]\n",
    "    max_len=min(max_len,max(lenghts))\n",
    "\n",
    "    new_batch=[]\n",
    "    for sent in data:\n",
    "        sent['text']=sent['text'][:max_len]\n",
    "        for i in range(max_len-len(sent['text'])):\n",
    "            sent['text'].append(pad_id)\n",
    "        new_batch.append(sent['text'])\n",
    "\n",
    "    new_batch=torch.LongTensor(new_batch)\n",
    "\n",
    "    new_pair={\n",
    "        'text':torch.LongTensor(new_batch),\n",
    "        'label':torch.LongTensor([x['label'] for x in data])\n",
    "    }\n",
    "    return new_pair\n",
    "\n",
    "    "
   ]
  },
  {
   "cell_type": "code",
   "execution_count": 53,
   "id": "fb5b3133-ec90-426e-908f-e02d5634b2a7",
   "metadata": {},
   "outputs": [],
   "source": [
    "train_dataset=[newsdata['train']]\n",
    "\n",
    "train_dataloader=DataLoader(train_dataset,batch_size=32,shuffle=True,drop_last=True,collate_fn=make_batch)"
   ]
  },
  {
   "cell_type": "code",
   "execution_count": 57,
   "id": "4726dc76-0197-4094-8344-f83fbc5183ca",
   "metadata": {},
   "outputs": [],
   "source": [
    "class rnn_net(Module):\n",
    "    def __init__(inp_size,hidden_size,out_size,vocab_size):\n",
    "        super(rnn_net,self).__init__()\n",
    "\n",
    "        self.emb=nn.Embedding(vocab_size,hidden_size)\n",
    "        self.rnn=nn.RNN(hidden_size,hidden_size,batch_first=True)#!!!!!!!1\n",
    "        self.fin_lin=nn.Linear(hidden_size,out_size)\n",
    "        self.tahn=nn.Tanh()\n",
    "    def forward(self,x):\n",
    "        x=self.emb(x)\n",
    "        x=self.tahn(self.rnn(x))\n",
    "\n",
    "        #работа с эмбрендингами\n",
    "\n",
    "        \n",
    "        out=self.fin_lin(x)\n",
    "\n",
    "        return x\n",
    "        "
   ]
  },
  {
   "cell_type": "code",
   "execution_count": 58,
   "id": "4caecf96-5d6b-496f-b00b-4e52590ca079",
   "metadata": {},
   "outputs": [
    {
     "ename": "TypeError",
     "evalue": "rnn_net.__init__() takes 4 positional arguments but 5 were given",
     "output_type": "error",
     "traceback": [
      "\u001b[0;31m---------------------------------------------------------------------------\u001b[0m",
      "\u001b[0;31mTypeError\u001b[0m                                 Traceback (most recent call last)",
      "Cell \u001b[0;32mIn[58], line 1\u001b[0m\n\u001b[0;32m----> 1\u001b[0m model\u001b[38;5;241m=\u001b[39m\u001b[43mrnn_net\u001b[49m\u001b[43m(\u001b[49m\u001b[38;5;241;43m256\u001b[39;49m\u001b[43m,\u001b[49m\u001b[38;5;241;43m256\u001b[39;49m\u001b[43m,\u001b[49m\u001b[38;5;241;43m4\u001b[39;49m\u001b[43m,\u001b[49m\u001b[38;5;28;43mlen\u001b[39;49m\u001b[43m(\u001b[49m\u001b[43mvocab\u001b[49m\u001b[43m)\u001b[49m\u001b[43m)\u001b[49m\n",
      "\u001b[0;31mTypeError\u001b[0m: rnn_net.__init__() takes 4 positional arguments but 5 were given"
     ]
    }
   ],
   "source": [
    "model=rnn_net(256,256,4,len(vocab))"
   ]
  },
  {
   "cell_type": "code",
   "execution_count": 59,
   "id": "c04e3ded-5229-4fd7-8e02-afdff7fc20c3",
   "metadata": {},
   "outputs": [
    {
     "data": {
      "text/plain": [
       "11505"
      ]
     },
     "execution_count": 59,
     "metadata": {},
     "output_type": "execute_result"
    }
   ],
   "source": [
    "len(vocab)"
   ]
  },
  {
   "cell_type": "code",
   "execution_count": null,
   "id": "c4beb303-16fc-4e62-9cb7-80a51fefcfba",
   "metadata": {},
   "outputs": [],
   "source": []
  }
 ],
 "metadata": {
  "kernelspec": {
   "display_name": "Python 3 (ipykernel)",
   "language": "python",
   "name": "python3"
  },
  "language_info": {
   "codemirror_mode": {
    "name": "ipython",
    "version": 3
   },
   "file_extension": ".py",
   "mimetype": "text/x-python",
   "name": "python",
   "nbconvert_exporter": "python",
   "pygments_lexer": "ipython3",
   "version": "3.13.2"
  }
 },
 "nbformat": 4,
 "nbformat_minor": 5
}
