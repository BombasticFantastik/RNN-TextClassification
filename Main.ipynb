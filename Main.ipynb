{
 "cells": [
  {
   "cell_type": "code",
   "execution_count": 7,
   "id": "fc7f8eb4-169c-4760-8bfe-6cc7242a2e76",
   "metadata": {},
   "outputs": [],
   "source": [
    "import datasets\n",
    "from collections import Counter\n",
    "import string\n",
    "from gensim.utils import tokenize"
   ]
  },
  {
   "cell_type": "code",
   "execution_count": 9,
   "id": "0d918105-c8a1-4ec9-9ef0-adc67a90a77d",
   "metadata": {},
   "outputs": [],
   "source": [
    "newsdata=datasets.load_dataset('ag_news')"
   ]
  },
  {
   "cell_type": "code",
   "execution_count": 14,
   "id": "43ef54a6-ffb1-4632-bdea-336046fa4ff6",
   "metadata": {},
   "outputs": [
    {
     "data": {
      "text/plain": [
       "\"Wall St. Bears Claw Back Into the Black (Reuters) Reuters - Short-sellers, Wall Street's dwindling\\\\band of ultra-cynics, are seeing green again.\""
      ]
     },
     "execution_count": 14,
     "metadata": {},
     "output_type": "execute_result"
    }
   ],
   "source": [
    "newsdata['train']['text'][0]"
   ]
  },
  {
   "cell_type": "code",
   "execution_count": 31,
   "id": "3f864510-167a-464d-a01a-42c5ca83f6a6",
   "metadata": {},
   "outputs": [
    {
     "name": "stdout",
     "output_type": "stream",
     "text": [
      "Размер словаря 10345\n"
     ]
    }
   ],
   "source": [
    "#Создаём словарь количества вхождений слов\n",
    "words=[]\n",
    "#str.maketrans('','',string.punctuation)-возврящяет словарь для замены\n",
    "#.translate ждёт словарь слов для замены\n",
    "for seq in newsdata['train']['text']:\n",
    "    proced_seq=seq.lower().translate(\n",
    "        str.maketrans('','',string.punctuation)\n",
    "    )\n",
    "    for word in tokenize(proced_seq):\n",
    "        words.append(word)\n",
    "\n",
    "vocab = set(['<unk>','<bos>','<eos>','<pad>'])#Токеный неизвестногого слова, начала,конца последовательности и токен пустного пропуска для батчей\n",
    "\n",
    "\n",
    "treshold=30 #Порог для включения в словарь word2ind\n",
    "words=Counter(words)\n",
    "\n",
    "for word,cnt in words.items():\n",
    "    if cnt>treshold:\n",
    "        vocab.add(word)\n",
    "print(f'Размер словаря {len(vocab)}')\n",
    "        \n",
    "   "
   ]
  }
 ],
 "metadata": {
  "kernelspec": {
   "display_name": "Python 3 (ipykernel)",
   "language": "python",
   "name": "python3"
  },
  "language_info": {
   "codemirror_mode": {
    "name": "ipython",
    "version": 3
   },
   "file_extension": ".py",
   "mimetype": "text/x-python",
   "name": "python",
   "nbconvert_exporter": "python",
   "pygments_lexer": "ipython3",
   "version": "3.13.2"
  }
 },
 "nbformat": 4,
 "nbformat_minor": 5
}
