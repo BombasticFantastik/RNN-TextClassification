{
 "cells": [
  {
   "cell_type": "code",
   "execution_count": 22,
   "id": "fc7f8eb4-169c-4760-8bfe-6cc7242a2e76",
   "metadata": {},
   "outputs": [],
   "source": [
    "import datasets\n",
    "from collections import Counter\n",
    "import string\n",
    "from gensim.utils import tokenize\n",
    "from torch.utils.data import Dataset,DataLoader\n",
    "import torch"
   ]
  },
  {
   "cell_type": "code",
   "execution_count": 2,
   "id": "0d918105-c8a1-4ec9-9ef0-adc67a90a77d",
   "metadata": {},
   "outputs": [],
   "source": [
    "newsdata=datasets.load_dataset('ag_news')"
   ]
  },
  {
   "cell_type": "code",
   "execution_count": 3,
   "id": "128214a6-9119-437c-93af-6d4038cce137",
   "metadata": {},
   "outputs": [
    {
     "data": {
      "text/plain": [
       "2"
      ]
     },
     "execution_count": 3,
     "metadata": {},
     "output_type": "execute_result"
    }
   ],
   "source": [
    "newsdata['train']['label'][0]"
   ]
  },
  {
   "cell_type": "code",
   "execution_count": 16,
   "id": "3f864510-167a-464d-a01a-42c5ca83f6a6",
   "metadata": {},
   "outputs": [
    {
     "name": "stdout",
     "output_type": "stream",
     "text": [
      "Размер словаря 11505\n"
     ]
    }
   ],
   "source": [
    "#Создаём словарь количества вхождений слов\n",
    "words=['<unk>','<bos>','<eos>','<pad>']\n",
    "#str.maketrans('','',string.punctuation)-возврящяет словарь для замены\n",
    "#.translate ждёт словарь слов для замены\n",
    "for sent in newsdata['train']['text']:\n",
    "    proced_sent=sent.lower().translate(\n",
    "        str.maketrans('','',string.punctuation)\n",
    "    )\n",
    "    for word in tokenize(proced_sent):\n",
    "        words.append(word)\n",
    "        \n",
    "\n",
    "vocab = set(['<unk>','<bos>','<eos>','<pad>'])#Токеный неизвестногого слова, начала,конца последовательности и токен пустного пропуска для батчей\n",
    "\n",
    "\n",
    "treshold=25 #Порог для включения в словарь word2ind\n",
    "words=Counter(words)\n",
    "\n",
    "for word,cnt in words.items():\n",
    "    if cnt>treshold:\n",
    "        vocab.add(word)\n",
    "print(f'Размер словаря {len(vocab)}')\n",
    "        \n",
    "   "
   ]
  },
  {
   "cell_type": "code",
   "execution_count": 17,
   "id": "36c1112f-4c8c-4bfb-ac70-749e80a285c9",
   "metadata": {},
   "outputs": [],
   "source": [
    "word2ind={i:char for char,i in enumerate(vocab)}\n",
    "ind2word={char:i for char,i in enumerate(vocab)}"
   ]
  },
  {
   "cell_type": "code",
   "execution_count": 45,
   "id": "1bdffee1-869f-49ee-a970-ad679117c5b7",
   "metadata": {},
   "outputs": [],
   "source": [
    "class WordDataset(Dataset):\n",
    "    def __init__(self,data):  \n",
    "        super(WordDataset,self).__init__()\n",
    "        self.data=data\n",
    "        self.unk=word2ind['<unk>']\n",
    "        self.bos=word2ind['<bos>']\n",
    "        self.eos=word2ind['<eos>']\n",
    "        self.pad=word2ind['<pad>']        \n",
    "    def __getitem__(self,idx:int):\n",
    "        #получаем оригинальные данные\n",
    "        sent=self.data['text'][idx]\n",
    "        label=self.data['label'][idx]\n",
    "        proc_sent=sent.lower().translate(\n",
    "            str.maketrans('','',string.punctuation)\n",
    "\n",
    "        )\n",
    "        #tokenized_sent=tokenize(proc_sent)\n",
    "        tokenized_sent=[self.bos]\n",
    "        tokenized_sent+=[\n",
    "            word2ind.get(word,self.unk) for word in tokenize(proc_sent)\n",
    "        ]\n",
    "        tokenized_sent+=[self.eos]\n",
    "\n",
    "        sample={\n",
    "            'text':tokenized_sent,\n",
    "            'label':label\n",
    "        }\n",
    "        return sample\n",
    "    def __len__(self):\n",
    "        return len(self.data)"
   ]
  },
  {
   "cell_type": "code",
   "execution_count": 46,
   "id": "3c8ddd6d-3735-40a0-8a74-cd229037c1e1",
   "metadata": {},
   "outputs": [
    {
     "data": {
      "text/plain": [
       "10554"
      ]
     },
     "execution_count": 46,
     "metadata": {},
     "output_type": "execute_result"
    }
   ],
   "source": [
    "word2ind['<pad>']"
   ]
  },
  {
   "cell_type": "code",
   "execution_count": 47,
   "id": "dfaafc6e-f3fc-4c97-81ef-f929f956a196",
   "metadata": {},
   "outputs": [],
   "source": [
    "def make_batch(data,max_len=256,pad_id=word2ind['<pad>']):\n",
    "    lenghts=[len(sent['text']) for sent in data]\n",
    "    max_len=min(max_len,max(lenghts))\n",
    "\n",
    "    new_batch=[]\n",
    "    for sent in data:\n",
    "        sent['text']=sent['text'][:max_len]\n",
    "        for i in range(max_len-len(sent['text'])):\n",
    "            sent['text'].append(pad_id)\n",
    "        new_batch.append(sent['text'])\n",
    "\n",
    "    new_batch=torch.LongTensor(new_batch)\n",
    "\n",
    "    new_pair={\n",
    "        'text':torch.LongTensor(new_batch),\n",
    "        'label':torch.LongTensor([x['label'] for x in data])\n",
    "    }\n",
    "    return new_pair\n",
    "\n",
    "    "
   ]
  }
 ],
 "metadata": {
  "kernelspec": {
   "display_name": "Python 3 (ipykernel)",
   "language": "python",
   "name": "python3"
  },
  "language_info": {
   "codemirror_mode": {
    "name": "ipython",
    "version": 3
   },
   "file_extension": ".py",
   "mimetype": "text/x-python",
   "name": "python",
   "nbconvert_exporter": "python",
   "pygments_lexer": "ipython3",
   "version": "3.13.2"
  }
 },
 "nbformat": 4,
 "nbformat_minor": 5
}
